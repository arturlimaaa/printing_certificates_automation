{
  "nbformat": 4,
  "nbformat_minor": 0,
  "metadata": {
    "colab": {
      "provenance": []
    },
    "kernelspec": {
      "name": "python3",
      "display_name": "Python 3"
    },
    "language_info": {
      "name": "python"
    }
  },
  "cells": [
    {
      "cell_type": "markdown",
      "source": [
        "by https://github.com/arturlimaaa/"
      ],
      "metadata": {
        "id": "FlgqnwoeS3f8"
      }
    },
    {
      "cell_type": "code",
      "source": [
        "!pip install pillow"
      ],
      "metadata": {
        "colab": {
          "base_uri": "https://localhost:8080/"
        },
        "id": "qLxc9nRmPDNV",
        "outputId": "931f412b-bace-43ee-f2e7-ba882bebded5"
      },
      "execution_count": 2,
      "outputs": [
        {
          "output_type": "stream",
          "name": "stdout",
          "text": [
            "Requirement already satisfied: pillow in /usr/local/lib/python3.12/dist-packages (11.3.0)\n"
          ]
        }
      ]
    },
    {
      "cell_type": "code",
      "execution_count": 3,
      "metadata": {
        "id": "dnovTpdFO9Fr"
      },
      "outputs": [],
      "source": [
        "from PIL import Image, ImageDraw, ImageFont"
      ]
    },
    {
      "cell_type": "code",
      "source": [
        "def create_certificate(names, certificate_template:str, output_folder:str):\n",
        "\n",
        "    print('Creating your certificates...')  # fancy print\n",
        "\n",
        "    for name in zip(names):\n",
        "        text_y_position = 675  # this will depend on your certificate!\n",
        "        img = Image.open(certificate_template, mode='r')  # open the image (certificate template)\n",
        "        img_width = img.width\n",
        "        img_height = img.height\n",
        "\n",
        "        # draw in your image\n",
        "        draw = ImageDraw.Draw(img)\n",
        "\n",
        "        # set font size\n",
        "        font_size = 150  # this will depend on the font size you want!\n",
        "\n",
        "        # quick check in case the name is too long\n",
        "        #if len(name) > 30:\n",
        "        #    font_size = font_size / 2\n",
        "        #elif len(name) > 20:\n",
        "        #    font_size = font_size * 2/3\n",
        "\n",
        "        # IMPORTANT stuff\n",
        "        # Font!\n",
        "        font = ImageFont.truetype('/System/Library/Fonts/Helvetica.ttc', int(font_size))\n",
        "\n",
        "        # text width\n",
        "        text_width, _ = draw.textsize(name, font=font)\n",
        "\n",
        "        # draw text for name\n",
        "        draw.text(((img_width - text_width) / 2, text_y_position), name, font=font, fill='black')\n",
        "\n",
        "        # save certificates in a folder (make sure to edit this)\n",
        "        output_path = f\"{output_folder}/{name}.pdf\"\n",
        "        img.save(output_path)\n",
        "        print(f\"Saved certificate for {name} at {output_path}\")"
      ],
      "metadata": {
        "id": "6MSXA4zoPBsa"
      },
      "execution_count": 4,
      "outputs": []
    },
    {
      "cell_type": "code",
      "source": [
        "import pandas as pd\n",
        "import numpy as np\n",
        "\n",
        "data = pd.read_csv('names.csv')\n",
        "\n",
        "# IMPORTANT\n",
        "names = data['name'] # change column name if needed\n",
        "certificate_template = 'data/your_certificate_template.jpg' # it has to be in jpg format\n",
        "output_folder = 'certificates' # set the destination folder"
      ],
      "metadata": {
        "id": "9y7VWjEHRRk9"
      },
      "execution_count": null,
      "outputs": []
    }
  ]
}